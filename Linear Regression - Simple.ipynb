{
 "cells": [
  {
   "cell_type": "markdown",
   "metadata": {},
   "source": [
    "### Linear Regression Theory\n",
    "\n",
    "###### The term “linearity” in algebra refers to a linear relationship between two or more variables. If we draw this relationship in a two-dimensional space (between two variables), we get a straight line. Linear regression performs the task to predict a dependent variable value (y) based on a given independent variable (x). So, this regression technique finds out a linear relationship between x (input) and y(output). Hence, the name is Linear Regression. If we plot the independent variable (x) on the x-axis and dependent variable (y) on the y-axis, linear regression gives us a straight line that best fits the data points, as shown in the figure below."
   ]
  },
  {
   "cell_type": "markdown",
   "metadata": {},
   "source": [
    "![title](https://miro.medium.com/max/1280/1*fX95txC9xSwSPeP6ch2nmg.gif)"
   ]
  },
  {
   "cell_type": "markdown",
   "metadata": {},
   "source": [
    "![title](data:image/png;base64,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)"
   ]
  },
  {
   "cell_type": "markdown",
   "metadata": {},
   "source": [
    "## The equation of the above line is :\n",
    "\n",
    "\n",
    "##### Y= mx + b\n",
    "\n",
    "###### Where b is the intercept and m is the slope of the line. So basically, the linear regression algorithm gives us the most optimal value for the intercept and the slope (in two dimensions). The y and x variables remain the same, since they are the data features and cannot be changed. The values that we can control are the intercept(b) and slope(m). There can be multiple straight lines depending upon the values of intercept and slope. Basically what the linear regression algorithm does is it fits multiple lines on the data points and returns the line that results in the least error.\n",
    "\n",
    "\n",
    "#### y = b0 + m1b1 + m2b2 + m3b3 + … … mnbn\n",
    "\n"
   ]
  },
  {
   "cell_type": "code",
   "execution_count": 1,
   "metadata": {},
   "outputs": [],
   "source": [
    "import time\n",
    "start = time.process_time()\n",
    "\n",
    "# import all necessary Libraries\n",
    "\n",
    "import pandas as pd\n",
    "import numpy as np\n",
    "import matplotlib.pyplot as pt\n",
    "\n",
    "from sklearn.linear_model import LinearRegression \n",
    "from sklearn.metrics import mean_squared_error, r2_score\n",
    "\n",
    "from sklearn.model_selection import train_test_split \n",
    "from sklearn import metrics\n",
    "\n",
    "import math\n",
    "\n",
    "\n",
    "\n",
    "## We load the data into variables;which are in the form of dataframes.\n",
    "\n",
    "IncomeConsumptionDataset = pd.read_csv('E:\\\\Kaggle & ML Projects\\\\Data Science - ML Models\\\\Supervised\\\\Regression problem\\\\Algorithms\\\\Linear Regression\\\\IncomeVsConsumption.csv')\n",
    "\n",
    "## We used dropna() to remove the rows containing NaN values and now we have dataframes having valid values all together.\n",
    "\n",
    "IncomeConsumptionDataset = IncomeConsumptionDataset.dropna() "
   ]
  },
  {
   "cell_type": "code",
   "execution_count": 2,
   "metadata": {},
   "outputs": [
    {
     "data": {
      "text/html": [
       "<div>\n",
       "<style scoped>\n",
       "    .dataframe tbody tr th:only-of-type {\n",
       "        vertical-align: middle;\n",
       "    }\n",
       "\n",
       "    .dataframe tbody tr th {\n",
       "        vertical-align: top;\n",
       "    }\n",
       "\n",
       "    .dataframe thead th {\n",
       "        text-align: right;\n",
       "    }\n",
       "</style>\n",
       "<table border=\"1\" class=\"dataframe\">\n",
       "  <thead>\n",
       "    <tr style=\"text-align: right;\">\n",
       "      <th></th>\n",
       "      <th>Income (x)</th>\n",
       "      <th>Consumption (y)</th>\n",
       "    </tr>\n",
       "  </thead>\n",
       "  <tbody>\n",
       "    <tr>\n",
       "      <th>0</th>\n",
       "      <td>119</td>\n",
       "      <td>154</td>\n",
       "    </tr>\n",
       "    <tr>\n",
       "      <th>1</th>\n",
       "      <td>85</td>\n",
       "      <td>123</td>\n",
       "    </tr>\n",
       "    <tr>\n",
       "      <th>2</th>\n",
       "      <td>97</td>\n",
       "      <td>125</td>\n",
       "    </tr>\n",
       "    <tr>\n",
       "      <th>3</th>\n",
       "      <td>95</td>\n",
       "      <td>130</td>\n",
       "    </tr>\n",
       "    <tr>\n",
       "      <th>4</th>\n",
       "      <td>120</td>\n",
       "      <td>151</td>\n",
       "    </tr>\n",
       "  </tbody>\n",
       "</table>\n",
       "</div>"
      ],
      "text/plain": [
       "   Income (x)  Consumption (y)\n",
       "0         119              154\n",
       "1          85              123\n",
       "2          97              125\n",
       "3          95              130\n",
       "4         120              151"
      ]
     },
     "execution_count": 2,
     "metadata": {},
     "output_type": "execute_result"
    }
   ],
   "source": [
    "IncomeConsumptionDataset.head()"
   ]
  },
  {
   "cell_type": "code",
   "execution_count": 3,
   "metadata": {},
   "outputs": [
    {
     "name": "stdout",
     "output_type": "stream",
     "text": [
      "<class 'pandas.core.frame.DataFrame'>\n",
      "Int64Index: 40 entries, 0 to 39\n",
      "Data columns (total 2 columns):\n",
      " #   Column           Non-Null Count  Dtype\n",
      "---  ------           --------------  -----\n",
      " 0   Income (x)       40 non-null     int64\n",
      " 1   Consumption (y)  40 non-null     int64\n",
      "dtypes: int64(2)\n",
      "memory usage: 960.0 bytes\n"
     ]
    }
   ],
   "source": [
    "IncomeConsumptionDataset.info()"
   ]
  },
  {
   "cell_type": "code",
   "execution_count": 4,
   "metadata": {},
   "outputs": [
    {
     "data": {
      "text/html": [
       "<div>\n",
       "<style scoped>\n",
       "    .dataframe tbody tr th:only-of-type {\n",
       "        vertical-align: middle;\n",
       "    }\n",
       "\n",
       "    .dataframe tbody tr th {\n",
       "        vertical-align: top;\n",
       "    }\n",
       "\n",
       "    .dataframe thead th {\n",
       "        text-align: right;\n",
       "    }\n",
       "</style>\n",
       "<table border=\"1\" class=\"dataframe\">\n",
       "  <thead>\n",
       "    <tr style=\"text-align: right;\">\n",
       "      <th></th>\n",
       "      <th>Income (x)</th>\n",
       "      <th>Consumption (y)</th>\n",
       "    </tr>\n",
       "  </thead>\n",
       "  <tbody>\n",
       "    <tr>\n",
       "      <th>count</th>\n",
       "      <td>40.000000</td>\n",
       "      <td>40.000000</td>\n",
       "    </tr>\n",
       "    <tr>\n",
       "      <th>mean</th>\n",
       "      <td>98.350000</td>\n",
       "      <td>133.000000</td>\n",
       "    </tr>\n",
       "    <tr>\n",
       "      <th>std</th>\n",
       "      <td>11.802977</td>\n",
       "      <td>10.717826</td>\n",
       "    </tr>\n",
       "    <tr>\n",
       "      <th>min</th>\n",
       "      <td>81.000000</td>\n",
       "      <td>115.000000</td>\n",
       "    </tr>\n",
       "    <tr>\n",
       "      <th>25%</th>\n",
       "      <td>88.750000</td>\n",
       "      <td>124.750000</td>\n",
       "    </tr>\n",
       "    <tr>\n",
       "      <th>50%</th>\n",
       "      <td>97.500000</td>\n",
       "      <td>131.500000</td>\n",
       "    </tr>\n",
       "    <tr>\n",
       "      <th>75%</th>\n",
       "      <td>108.000000</td>\n",
       "      <td>141.750000</td>\n",
       "    </tr>\n",
       "    <tr>\n",
       "      <th>max</th>\n",
       "      <td>120.000000</td>\n",
       "      <td>154.000000</td>\n",
       "    </tr>\n",
       "  </tbody>\n",
       "</table>\n",
       "</div>"
      ],
      "text/plain": [
       "       Income (x)  Consumption (y)\n",
       "count   40.000000        40.000000\n",
       "mean    98.350000       133.000000\n",
       "std     11.802977        10.717826\n",
       "min     81.000000       115.000000\n",
       "25%     88.750000       124.750000\n",
       "50%     97.500000       131.500000\n",
       "75%    108.000000       141.750000\n",
       "max    120.000000       154.000000"
      ]
     },
     "execution_count": 4,
     "metadata": {},
     "output_type": "execute_result"
    }
   ],
   "source": [
    "IncomeConsumptionDataset.describe()"
   ]
  },
  {
   "cell_type": "code",
   "execution_count": 5,
   "metadata": {},
   "outputs": [
    {
     "name": "stdout",
     "output_type": "stream",
     "text": [
      "Mean of X is 98.35 \n",
      "\n",
      "Mean of Y is 133.0 \n",
      "\n"
     ]
    }
   ],
   "source": [
    "## We convert our dataframes to matrices and we can find out mean and median of the matrices\n",
    "\n",
    "X=IncomeConsumptionDataset['Income (x)'].values.reshape(-1,1)\n",
    "Y=IncomeConsumptionDataset['Consumption (y)'].values.reshape(-1,1)\n",
    "\n",
    "print('Mean of X is',np.mean(X),'\\n')\n",
    "# print('Median of X is',np.median(X),'\\n')\n",
    "\n",
    "print('Mean of Y is',np.mean(Y),'\\n')\n",
    "# print('Median of Y is',np.median(Y),'\\n')"
   ]
  },
  {
   "cell_type": "code",
   "execution_count": 6,
   "metadata": {},
   "outputs": [
    {
     "data": {
      "text/plain": [
       "(dtype('int64'), dtype('int64'))"
      ]
     },
     "execution_count": 6,
     "metadata": {},
     "output_type": "execute_result"
    }
   ],
   "source": [
    "X.dtype, Y.dtype"
   ]
  },
  {
   "cell_type": "code",
   "execution_count": 7,
   "metadata": {},
   "outputs": [
    {
     "data": {
      "text/plain": [
       "((40, 1), (40, 1))"
      ]
     },
     "execution_count": 7,
     "metadata": {},
     "output_type": "execute_result"
    }
   ],
   "source": [
    "X.shape, Y.shape"
   ]
  },
  {
   "cell_type": "markdown",
   "metadata": {},
   "source": [
    "###### Divide the data into “attributes” and “labels”. X variable contains all the attributes/features and y variable contains labels."
   ]
  },
  {
   "cell_type": "code",
   "execution_count": 8,
   "metadata": {},
   "outputs": [],
   "source": [
    "# Independent variable\n",
    "\n",
    "X = IncomeConsumptionDataset['Income (x)'].values\n",
    "\n",
    "# Dependent variable\n",
    "\n",
    "y = IncomeConsumptionDataset['Consumption (y)'].values"
   ]
  },
  {
   "cell_type": "code",
   "execution_count": 9,
   "metadata": {},
   "outputs": [
    {
     "data": {
      "image/png": "[encoded data removed]",
      "text/plain": [
       "<Figure size 720x720 with 1 Axes>"
      ]
     },
     "metadata": {
      "needs_background": "light"
     },
     "output_type": "display_data"
    }
   ],
   "source": [
    "pt.figure(figsize=(10,10))\n",
    "pt.title('Lets see the linear relationship between x and y of training set \\n')\n",
    "pt.scatter(X,Y,s=20,c='blue',marker='*')\n",
    "pt.xlabel('Training_set_X')\n",
    "pt.ylabel('Training_set_Y')\n",
    "pt.show()"
   ]
  },
  {
   "cell_type": "markdown",
   "metadata": {},
   "source": [
    "#### Now split 80% of the data into Training set while 20% of the data to Test set\n",
    "\n",
    "#### The test_size variable is where we actually specify the proportion of the Test set"
   ]
  },
  {
   "cell_type": "code",
   "execution_count": 10,
   "metadata": {},
   "outputs": [],
   "source": [
    "X_train, X_test, y_train, y_test = train_test_split(X, Y, test_size=0.3, random_state=0)"
   ]
  },
  {
   "cell_type": "code",
   "execution_count": 11,
   "metadata": {},
   "outputs": [
    {
     "data": {
      "text/plain": [
       "(dtype('int64'), dtype('int64'), dtype('int64'), dtype('int64'))"
      ]
     },
     "execution_count": 11,
     "metadata": {},
     "output_type": "execute_result"
    }
   ],
   "source": [
    "X_train.dtype, y_train.dtype, X_test.dtype, y_test.dtype"
   ]
  },
  {
   "cell_type": "code",
   "execution_count": 12,
   "metadata": {},
   "outputs": [
    {
     "data": {
      "text/plain": [
       "((28,), (28, 1), (12,), (12, 1))"
      ]
     },
     "execution_count": 12,
     "metadata": {},
     "output_type": "execute_result"
    }
   ],
   "source": [
    "X_train.shape, y_train.shape, X_test.shape, y_test.shape"
   ]
  },
  {
   "cell_type": "code",
   "execution_count": 13,
   "metadata": {},
   "outputs": [],
   "source": [
    "X_train =IncomeConsumptionDataset['Income (x)'].values.reshape(-1,1)\n",
    "y_train=IncomeConsumptionDataset['Consumption (y)'].values.reshape(-1,1)\n",
    "\n",
    "X_test =IncomeConsumptionDataset['Income (x)'].values.reshape(-1,1)\n",
    "y_test=IncomeConsumptionDataset['Consumption (y)'].values.reshape(-1,1)"
   ]
  },
  {
   "cell_type": "code",
   "execution_count": 14,
   "metadata": {},
   "outputs": [
    {
     "name": "stdout",
     "output_type": "stream",
     "text": [
      "Intercept of Regression :  [49.1334137]\n",
      "Slope of Regression :  [[0.85273601]]\n",
      "R2 Score : 0.881858464452023\n",
      "Pearson Coefficient Correlation (r) : 0.9390731944060713\n",
      "Mean squared error : 13.231851981373428\n"
     ]
    }
   ],
   "source": [
    "# Train & Test Model \n",
    "\n",
    "clf = LinearRegression(normalize=True)\n",
    "clf.fit(X_train,y_train)\n",
    "\n",
    "y_pred = clf.predict(X_test)\n",
    "\n",
    "print(\"Intercept of Regression : \", str(clf.intercept_))\n",
    "print(\"Slope of Regression : \", str(clf.coef_))\n",
    "print(\"R2 Score : \" + str(r2_score(y_test,y_pred))) \n",
    "print(\"Pearson Coefficient Correlation (r) : \" + str(math.sqrt(r2_score(y_test,y_pred))))\n",
    "print(\"Mean squared error : \" + str(mean_squared_error(y_test,y_pred)))"
   ]
  },
  {
   "cell_type": "code",
   "execution_count": 15,
   "metadata": {},
   "outputs": [
    {
     "data": {
      "image/png": "[encoded data removed]",
      "text/plain": [
       "<Figure size 720x720 with 1 Axes>"
      ]
     },
     "metadata": {
      "needs_background": "light"
     },
     "output_type": "display_data"
    }
   ],
   "source": [
    "\n",
    "pt.figure(figsize=(10,10))\n",
    "\n",
    "p=clf.predict(X_test)\n",
    "\n",
    "pt.title('Scatter between predicted values and actual values in training set \\n')\n",
    "pt.scatter(X,p,s=20,color = 'green')\n",
    "\n",
    "pt.xlabel('Actual value')\n",
    "pt.ylabel('Predicted value')\n",
    "\n",
    "pt.show()"
   ]
  },
  {
   "cell_type": "code",
   "execution_count": 16,
   "metadata": {},
   "outputs": [
    {
     "data": {
      "text/html": [
       "<div>\n",
       "<style scoped>\n",
       "    .dataframe tbody tr th:only-of-type {\n",
       "        vertical-align: middle;\n",
       "    }\n",
       "\n",
       "    .dataframe tbody tr th {\n",
       "        vertical-align: top;\n",
       "    }\n",
       "\n",
       "    .dataframe thead th {\n",
       "        text-align: right;\n",
       "    }\n",
       "</style>\n",
       "<table border=\"1\" class=\"dataframe\">\n",
       "  <thead>\n",
       "    <tr style=\"text-align: right;\">\n",
       "      <th></th>\n",
       "      <th>X</th>\n",
       "      <th>Actual Y</th>\n",
       "      <th>Predicted</th>\n",
       "    </tr>\n",
       "  </thead>\n",
       "  <tbody>\n",
       "    <tr>\n",
       "      <th>0</th>\n",
       "      <td>119</td>\n",
       "      <td>154</td>\n",
       "      <td>150.608999</td>\n",
       "    </tr>\n",
       "    <tr>\n",
       "      <th>1</th>\n",
       "      <td>85</td>\n",
       "      <td>123</td>\n",
       "      <td>121.615974</td>\n",
       "    </tr>\n",
       "    <tr>\n",
       "      <th>2</th>\n",
       "      <td>97</td>\n",
       "      <td>125</td>\n",
       "      <td>131.848806</td>\n",
       "    </tr>\n",
       "    <tr>\n",
       "      <th>3</th>\n",
       "      <td>95</td>\n",
       "      <td>130</td>\n",
       "      <td>130.143334</td>\n",
       "    </tr>\n",
       "    <tr>\n",
       "      <th>4</th>\n",
       "      <td>120</td>\n",
       "      <td>151</td>\n",
       "      <td>151.461735</td>\n",
       "    </tr>\n",
       "    <tr>\n",
       "      <th>5</th>\n",
       "      <td>92</td>\n",
       "      <td>131</td>\n",
       "      <td>127.585126</td>\n",
       "    </tr>\n",
       "    <tr>\n",
       "      <th>6</th>\n",
       "      <td>105</td>\n",
       "      <td>141</td>\n",
       "      <td>138.670694</td>\n",
       "    </tr>\n",
       "    <tr>\n",
       "      <th>7</th>\n",
       "      <td>110</td>\n",
       "      <td>141</td>\n",
       "      <td>142.934374</td>\n",
       "    </tr>\n",
       "    <tr>\n",
       "      <th>8</th>\n",
       "      <td>98</td>\n",
       "      <td>130</td>\n",
       "      <td>132.701542</td>\n",
       "    </tr>\n",
       "    <tr>\n",
       "      <th>9</th>\n",
       "      <td>98</td>\n",
       "      <td>134</td>\n",
       "      <td>132.701542</td>\n",
       "    </tr>\n",
       "    <tr>\n",
       "      <th>10</th>\n",
       "      <td>81</td>\n",
       "      <td>115</td>\n",
       "      <td>118.205030</td>\n",
       "    </tr>\n",
       "    <tr>\n",
       "      <th>11</th>\n",
       "      <td>81</td>\n",
       "      <td>117</td>\n",
       "      <td>118.205030</td>\n",
       "    </tr>\n",
       "    <tr>\n",
       "      <th>12</th>\n",
       "      <td>91</td>\n",
       "      <td>123</td>\n",
       "      <td>126.732390</td>\n",
       "    </tr>\n",
       "    <tr>\n",
       "      <th>13</th>\n",
       "      <td>105</td>\n",
       "      <td>144</td>\n",
       "      <td>138.670694</td>\n",
       "    </tr>\n",
       "    <tr>\n",
       "      <th>14</th>\n",
       "      <td>100</td>\n",
       "      <td>137</td>\n",
       "      <td>134.407014</td>\n",
       "    </tr>\n",
       "    <tr>\n",
       "      <th>15</th>\n",
       "      <td>107</td>\n",
       "      <td>140</td>\n",
       "      <td>140.376166</td>\n",
       "    </tr>\n",
       "    <tr>\n",
       "      <th>16</th>\n",
       "      <td>82</td>\n",
       "      <td>123</td>\n",
       "      <td>119.057766</td>\n",
       "    </tr>\n",
       "    <tr>\n",
       "      <th>17</th>\n",
       "      <td>84</td>\n",
       "      <td>115</td>\n",
       "      <td>120.763238</td>\n",
       "    </tr>\n",
       "    <tr>\n",
       "      <th>18</th>\n",
       "      <td>100</td>\n",
       "      <td>134</td>\n",
       "      <td>134.407014</td>\n",
       "    </tr>\n",
       "    <tr>\n",
       "      <th>19</th>\n",
       "      <td>108</td>\n",
       "      <td>147</td>\n",
       "      <td>141.228902</td>\n",
       "    </tr>\n",
       "    <tr>\n",
       "      <th>20</th>\n",
       "      <td>116</td>\n",
       "      <td>144</td>\n",
       "      <td>148.050791</td>\n",
       "    </tr>\n",
       "    <tr>\n",
       "      <th>21</th>\n",
       "      <td>115</td>\n",
       "      <td>144</td>\n",
       "      <td>147.198055</td>\n",
       "    </tr>\n",
       "    <tr>\n",
       "      <th>22</th>\n",
       "      <td>93</td>\n",
       "      <td>126</td>\n",
       "      <td>128.437862</td>\n",
       "    </tr>\n",
       "    <tr>\n",
       "      <th>23</th>\n",
       "      <td>105</td>\n",
       "      <td>141</td>\n",
       "      <td>138.670694</td>\n",
       "    </tr>\n",
       "    <tr>\n",
       "      <th>24</th>\n",
       "      <td>89</td>\n",
       "      <td>124</td>\n",
       "      <td>125.026918</td>\n",
       "    </tr>\n",
       "    <tr>\n",
       "      <th>25</th>\n",
       "      <td>104</td>\n",
       "      <td>144</td>\n",
       "      <td>137.817958</td>\n",
       "    </tr>\n",
       "    <tr>\n",
       "      <th>26</th>\n",
       "      <td>108</td>\n",
       "      <td>144</td>\n",
       "      <td>141.228902</td>\n",
       "    </tr>\n",
       "    <tr>\n",
       "      <th>27</th>\n",
       "      <td>88</td>\n",
       "      <td>129</td>\n",
       "      <td>124.174182</td>\n",
       "    </tr>\n",
       "    <tr>\n",
       "      <th>28</th>\n",
       "      <td>109</td>\n",
       "      <td>137</td>\n",
       "      <td>142.081638</td>\n",
       "    </tr>\n",
       "    <tr>\n",
       "      <th>29</th>\n",
       "      <td>112</td>\n",
       "      <td>144</td>\n",
       "      <td>144.639846</td>\n",
       "    </tr>\n",
       "    <tr>\n",
       "      <th>30</th>\n",
       "      <td>96</td>\n",
       "      <td>132</td>\n",
       "      <td>130.996070</td>\n",
       "    </tr>\n",
       "    <tr>\n",
       "      <th>31</th>\n",
       "      <td>89</td>\n",
       "      <td>125</td>\n",
       "      <td>125.026918</td>\n",
       "    </tr>\n",
       "    <tr>\n",
       "      <th>32</th>\n",
       "      <td>93</td>\n",
       "      <td>126</td>\n",
       "      <td>128.437862</td>\n",
       "    </tr>\n",
       "    <tr>\n",
       "      <th>33</th>\n",
       "      <td>114</td>\n",
       "      <td>140</td>\n",
       "      <td>146.345319</td>\n",
       "    </tr>\n",
       "    <tr>\n",
       "      <th>34</th>\n",
       "      <td>81</td>\n",
       "      <td>120</td>\n",
       "      <td>118.205030</td>\n",
       "    </tr>\n",
       "    <tr>\n",
       "      <th>35</th>\n",
       "      <td>84</td>\n",
       "      <td>118</td>\n",
       "      <td>120.763238</td>\n",
       "    </tr>\n",
       "    <tr>\n",
       "      <th>36</th>\n",
       "      <td>88</td>\n",
       "      <td>119</td>\n",
       "      <td>124.174182</td>\n",
       "    </tr>\n",
       "    <tr>\n",
       "      <th>37</th>\n",
       "      <td>96</td>\n",
       "      <td>131</td>\n",
       "      <td>130.996070</td>\n",
       "    </tr>\n",
       "    <tr>\n",
       "      <th>38</th>\n",
       "      <td>82</td>\n",
       "      <td>127</td>\n",
       "      <td>119.057766</td>\n",
       "    </tr>\n",
       "    <tr>\n",
       "      <th>39</th>\n",
       "      <td>114</td>\n",
       "      <td>150</td>\n",
       "      <td>146.345319</td>\n",
       "    </tr>\n",
       "  </tbody>\n",
       "</table>\n",
       "</div>"
      ],
      "text/plain": [
       "      X  Actual Y   Predicted\n",
       "0   119       154  150.608999\n",
       "1    85       123  121.615974\n",
       "2    97       125  131.848806\n",
       "3    95       130  130.143334\n",
       "4   120       151  151.461735\n",
       "5    92       131  127.585126\n",
       "6   105       141  138.670694\n",
       "7   110       141  142.934374\n",
       "8    98       130  132.701542\n",
       "9    98       134  132.701542\n",
       "10   81       115  118.205030\n",
       "11   81       117  118.205030\n",
       "12   91       123  126.732390\n",
       "13  105       144  138.670694\n",
       "14  100       137  134.407014\n",
       "15  107       140  140.376166\n",
       "16   82       123  119.057766\n",
       "17   84       115  120.763238\n",
       "18  100       134  134.407014\n",
       "19  108       147  141.228902\n",
       "20  116       144  148.050791\n",
       "21  115       144  147.198055\n",
       "22   93       126  128.437862\n",
       "23  105       141  138.670694\n",
       "24   89       124  125.026918\n",
       "25  104       144  137.817958\n",
       "26  108       144  141.228902\n",
       "27   88       129  124.174182\n",
       "28  109       137  142.081638\n",
       "29  112       144  144.639846\n",
       "30   96       132  130.996070\n",
       "31   89       125  125.026918\n",
       "32   93       126  128.437862\n",
       "33  114       140  146.345319\n",
       "34   81       120  118.205030\n",
       "35   84       118  120.763238\n",
       "36   88       119  124.174182\n",
       "37   96       131  130.996070\n",
       "38   82       127  119.057766\n",
       "39  114       150  146.345319"
      ]
     },
     "execution_count": 16,
     "metadata": {},
     "output_type": "execute_result"
    }
   ],
   "source": [
    "df = pd.DataFrame({'X': X.flatten(), 'Actual Y': Y.flatten(), 'Predicted': y_pred.flatten()})\n",
    "df"
   ]
  },
  {
   "cell_type": "code",
   "execution_count": 17,
   "metadata": {},
   "outputs": [
    {
     "data": {
      "image/png": "[encoded data removed]",
      "text/plain": [
       "<Figure size 1152x720 with 1 Axes>"
      ]
     },
     "metadata": {
      "needs_background": "light"
     },
     "output_type": "display_data"
    },
    {
     "name": "stdout",
     "output_type": "stream",
     "text": [
      "Time consumed to execute complete code : 3.15625 sec\n"
     ]
    }
   ],
   "source": [
    "df1 = df.head(25)\n",
    "df1.plot(kind='bar',figsize=(16,10))\n",
    "pt.grid(which='major', linestyle='-', linewidth='0.5', color='green')\n",
    "pt.grid(which='minor', linestyle=':', linewidth='0.5', color='black')\n",
    "pt.show()\n",
    "\n",
    "# end = datetime.now()\n",
    "# time_taken = end - start\n",
    "# print('Time consumed to execute complete code: ',time_taken)\n",
    "\n",
    "print(f'Time consumed to execute complete code : {time.process_time() - start}',\"sec\")"
   ]
  },
  {
   "cell_type": "code",
   "execution_count": null,
   "metadata": {},
   "outputs": [],
   "source": []
  }
 ],
 "metadata": {
  "kernelspec": {
   "display_name": "Python 3",
   "language": "python",
   "name": "python3"
  },
  "language_info": {
   "codemirror_mode": {
    "name": "ipython",
    "version": 3
   },
   "file_extension": ".py",
   "mimetype": "text/x-python",
   "name": "python",
   "nbconvert_exporter": "python",
   "pygments_lexer": "ipython3",
   "version": "3.7.4"
  }
 },
 "nbformat": 4,
 "nbformat_minor": 2
}
